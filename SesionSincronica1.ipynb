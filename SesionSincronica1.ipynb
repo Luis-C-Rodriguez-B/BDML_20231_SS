{
 "cells": [
  {
   "cell_type": "markdown",
   "id": "e53dc4f6",
   "metadata": {},
   "source": [
    "<div >\n",
    "<img src = \"banner.jpg\" />\n",
    "</div>"
   ]
  },
  {
   "cell_type": "markdown",
   "id": "32d87f3f",
   "metadata": {},
   "source": [
    "# Linear Regression for Prediction\n",
    "\n",
    "Outcome to be predicted: $Y_i$\n",
    "\n",
    "> *example:* a worker's log wage\n",
    "\n",
    "Characteristics (aka **features**): $X_i=\\left(X_{1i},\\ldots,X_{pi}\\right)'$\n",
    "\n",
    "> *example:* education, age, state of birth, parents' education, cognitive ability, family background\n"
   ]
  },
  {
   "cell_type": "code",
   "execution_count": null,
   "id": "d86d5977",
   "metadata": {},
   "outputs": [],
   "source": [
    "#Load Packages\n",
    "#install.packages(\"pacman\")\n",
    "require(\"pacman\")\n",
    "p_load(\"tidyverse\",\"stargazer\")"
   ]
  },
  {
   "cell_type": "code",
   "execution_count": null,
   "id": "0f4546c8",
   "metadata": {},
   "outputs": [],
   "source": [
    "nlsy = read_csv('https://raw.githubusercontent.com/ignaciomsarmiento/datasets/main/nlsy97.csv')\n",
    "nlsy = nlsy  %>%   drop_na(educ)\n",
    "head(nlsy)"
   ]
  },
  {
   "cell_type": "code",
   "execution_count": null,
   "id": "1c589b4f",
   "metadata": {},
   "outputs": [],
   "source": [
    "nlsy <- nlsy  %>% mutate(educ2=educ^2,\n",
    "                         educ3=educ^3,\n",
    "                         educ4=educ^4,\n",
    "                         educ5=educ^5,\n",
    "                         educ6=educ^6,\n",
    "                         educ7=educ^7,\n",
    "                         educ8=educ^8,\n",
    "                         educ9=educ^9,\n",
    "                         educ10=educ^10,\n",
    "                        )"
   ]
  },
  {
   "cell_type": "code",
   "execution_count": null,
   "id": "c209a0c9",
   "metadata": {},
   "outputs": [],
   "source": [
    "reg<- lm(lnw_2016~educ+ educ2 + educ3 + educ4 + educ5 + educ6 + educ7 + \n",
    "    educ8 + educ9 + educ10,   data = nlsy)\n",
    "#reg <- lm(lnw_2016 ~ educ +I(educ^2)  +I(educ^3)  +I(educ^4)  +I(educ^5)  +I(educ^6)  +I(educ^7) \n",
    "#  +I(educ^8)  +I(educ^9)  +I(educ^10),   data = nlsy) #otra forma sin crear variables\n",
    "summary(reg)"
   ]
  },
  {
   "cell_type": "code",
   "execution_count": null,
   "id": "50ca8d07",
   "metadata": {},
   "outputs": [],
   "source": [
    "stargazer(reg,type=\"text\")"
   ]
  },
  {
   "cell_type": "code",
   "execution_count": null,
   "id": "18c41cbd",
   "metadata": {},
   "outputs": [],
   "source": [
    "nlsy$yhat= predict(reg)"
   ]
  },
  {
   "cell_type": "code",
   "execution_count": null,
   "id": "a5d8cb0f",
   "metadata": {},
   "outputs": [],
   "source": [
    "# plot predicted values\n",
    "summ = nlsy %>%  \n",
    "  group_by(\n",
    "    educ, educ2, educ3, educ4, educ5, \n",
    "    educ6, educ7, educ8, educ9, educ10\n",
    "  ) %>%  \n",
    "  summarize(\n",
    "    mean_y = mean(lnw_2016),\n",
    "    yhat_reg = mean(yhat), .groups=\"drop\"\n",
    "  ) \n",
    "\n",
    "ggplot(summ) + \n",
    "  geom_point(\n",
    "    aes(x = educ, y = mean_y),\n",
    "    color = \"blue\", size = 2\n",
    "  ) + \n",
    "  geom_line(\n",
    "    aes(x = educ, y = yhat_reg), \n",
    "    color = \"green\", size = 1.5\n",
    "  ) + \n",
    "  labs(\n",
    "    title = \"ln Wages by Education in the NLSY\",\n",
    "    x = \"Years of Schooling\",\n",
    "    y = \"ln Wages\"\n",
    "  ) +\n",
    "  theme_bw()\n"
   ]
  },
  {
   "cell_type": "markdown",
   "id": "57fd77cb",
   "metadata": {},
   "source": [
    "As we can see, least squares linear regression can approximate any continuous function and can certainly be used for prediction. Include a rich enough set of transformations, and OLS predictions will yield unbiased estimates of the true ideal predictor, the conditional expectation function. But these estimates will be quite noisy. "
   ]
  },
  {
   "cell_type": "markdown",
   "id": "10a625cf",
   "metadata": {},
   "source": [
    "# Example 2"
   ]
  },
  {
   "cell_type": "code",
   "execution_count": null,
   "id": "3ad6a685",
   "metadata": {},
   "outputs": [],
   "source": [
    "p_load(\"fabricatr\")\n",
    "\n",
    "#for reproducibility\n",
    "set.seed(101010)\n",
    "\n",
    "\n",
    "db1 <- fabricate(\n",
    "  N = 100000,\n",
    "  ability=rnorm(N,mean=.5,sd=2),\n",
    "  schooling = round(runif(N, 2, 14)),\n",
    "  logwage =rnorm(N, mean=7+.15*schooling, sd=20)\n",
    ")\n",
    "head(db1)"
   ]
  },
  {
   "cell_type": "code",
   "execution_count": null,
   "id": "f08e9a3d",
   "metadata": {},
   "outputs": [],
   "source": [
    "reg1<-lm(logwage~schooling,db1)\n",
    "reg2<-lm(logwage~schooling+ability,db1)\n",
    "\n",
    "stargazer(reg1,reg2,type=\"text\")"
   ]
  },
  {
   "cell_type": "code",
   "execution_count": null,
   "id": "bd91e6ff",
   "metadata": {},
   "outputs": [],
   "source": [
    "db1<- db1 %>% mutate(yhat_reg1=predict(reg1),\n",
    "                     yhat_reg2=predict(reg2))\n"
   ]
  },
  {
   "cell_type": "code",
   "execution_count": null,
   "id": "b3a6a538",
   "metadata": {},
   "outputs": [],
   "source": [
    "var(db1$yhat_reg1)\n",
    "var(db1$yhat_reg2)"
   ]
  },
  {
   "cell_type": "code",
   "execution_count": null,
   "id": "a6882591",
   "metadata": {},
   "outputs": [],
   "source": [
    "db2 <- fabricate(\n",
    "  N = 100000,\n",
    "  ability=rnorm(N,mean=.5,sd=2),\n",
    "  schooling = round(runif(N, 2, 14)),\n",
    "  schooling = round(ceiling(schooling+1*ability)),\n",
    "  logwage =rnorm(N, mean=7+.15*schooling+.25*ability, sd=20)\n",
    ")\n",
    "head(db2)"
   ]
  },
  {
   "cell_type": "code",
   "execution_count": null,
   "id": "2527abf8",
   "metadata": {},
   "outputs": [],
   "source": [
    "reg3<-lm(logwage~schooling,db2)\n",
    "reg4<-lm(logwage~schooling+ability,db2)\n",
    "stargazer(reg3,reg4,type=\"text\")"
   ]
  },
  {
   "cell_type": "code",
   "execution_count": null,
   "id": "4ca94091",
   "metadata": {},
   "outputs": [],
   "source": [
    "db2$yhat_reg3<-predict(reg3)\n",
    "db2$yhat_reg4<-predict(reg4)\n"
   ]
  },
  {
   "cell_type": "code",
   "execution_count": null,
   "id": "7e962397",
   "metadata": {},
   "outputs": [],
   "source": [
    "var(db2$yhat_reg3)\n",
    "var(db2$yhat_reg4)"
   ]
  }
 ],
 "metadata": {
  "kernelspec": {
   "display_name": "R",
   "language": "R",
   "name": "ir"
  },
  "language_info": {
   "codemirror_mode": "r",
   "file_extension": ".r",
   "mimetype": "text/x-r-source",
   "name": "R",
   "pygments_lexer": "r",
   "version": "4.2.2"
  },
  "toc": {
   "base_numbering": 1,
   "nav_menu": {},
   "number_sections": true,
   "sideBar": true,
   "skip_h1_title": false,
   "title_cell": "Table of Contents",
   "title_sidebar": "Contents",
   "toc_cell": false,
   "toc_position": {},
   "toc_section_display": true,
   "toc_window_display": false
  }
 },
 "nbformat": 4,
 "nbformat_minor": 5
}
