{
 "cells": [
  {
   "cell_type": "markdown",
   "id": "5b1edbcf",
   "metadata": {},
   "source": [
    "<div >\n",
    "<img src = \"banner.jpg\" />\n",
    "</div>"
   ]
  },
  {
   "cell_type": "markdown",
   "id": "2a29cf8d",
   "metadata": {},
   "source": [
    "# Resampling Methods for Out of Sample Performance"
   ]
  },
  {
   "cell_type": "markdown",
   "id": "f73b29f8-6f9e-4e47-8b42-0a6779152cde",
   "metadata": {},
   "source": [
    "\n",
    "# Introduction\n",
    "\n"
   ]
  },
  {
   "cell_type": "markdown",
   "id": "44efaa5f-efe9-424e-bf07-c46550bc67fb",
   "metadata": {},
   "source": [
    "For this tutorial we will use the data set `matchdata` included in the\n",
    "`McSpatial package` for R. The data contains data on 3204 sales of single-family homes on the Far North Side of Chicago in 1995 and 2005. \n",
    "\n",
    "\n",
    "<div>\n",
    "<img src=\"chicago.png\" width=\"250\"/>\n",
    "</div>\n",
    "\n",
    "\n",
    "\n",
    "This data set includes 18 variables/features about the home, including the price the home was sold, the number of bathrooms, bedrooms, the latitude and longitude, etc.\n",
    "\n"
   ]
  },
  {
   "cell_type": "code",
   "execution_count": null,
   "id": "3e94ec2b-ab94-4ec8-8512-e370d2f22a56",
   "metadata": {
    "tags": [
     "remove_cell"
    ]
   },
   "outputs": [],
   "source": [
    "#packages\n",
    "require(\"pacman\")\n",
    "p_load(\"tidyverse\",\"stargazer\")"
   ]
  },
  {
   "cell_type": "code",
   "execution_count": null,
   "id": "2d1c518b-3147-4d15-9772-90ba2735ed90",
   "metadata": {},
   "outputs": [],
   "source": [
    "#Data \n",
    "load(url(\"https://github.com/ignaciomsarmiento/datasets/blob/main/matchdata.rda?raw=true\"))"
   ]
  },
  {
   "cell_type": "code",
   "execution_count": null,
   "id": "ab208b30-4a14-475f-9ed4-026b2644b121",
   "metadata": {
    "results": "asis",
    "tags": [
     "remove_input"
    ]
   },
   "outputs": [],
   "source": [
    "stargazer(matchdata, header=FALSE, type='text',title=\"Variables Included in the Matched Data Set\")"
   ]
  },
  {
   "cell_type": "code",
   "execution_count": null,
   "id": "f9a5fd62-efdd-4d3f-a566-970b61d2c257",
   "metadata": {},
   "outputs": [],
   "source": [
    "matchdata <- matchdata %>% \n",
    "                      mutate(price=exp(lnprice) #transforms log prices to standard prices\n",
    "                             ) "
   ]
  },
  {
   "cell_type": "markdown",
   "id": "0f2532d7",
   "metadata": {},
   "source": [
    "## Validation Set  Approach"
   ]
  },
  {
   "cell_type": "markdown",
   "id": "88212caa",
   "metadata": {},
   "source": [
    "\n",
    "<div>\n",
    "<img src=\"30-70.png\" width=\"500\"/>\n",
    "</div>\n"
   ]
  },
  {
   "cell_type": "code",
   "execution_count": null,
   "id": "acae014a",
   "metadata": {},
   "outputs": [],
   "source": [
    "#make this example reproducible\n",
    "set.seed(123)\n",
    "\n",
    "#use 70% of dataset as training set and 30% as test set\n",
    "sample <- sample(c(TRUE, FALSE), nrow(matchdata), replace=TRUE, prob=c(0.7,0.3))\n",
    "head(sample)"
   ]
  },
  {
   "cell_type": "code",
   "execution_count": null,
   "id": "df09eb0b",
   "metadata": {},
   "outputs": [],
   "source": [
    "sum(sample)/nrow(matchdata)"
   ]
  },
  {
   "cell_type": "code",
   "execution_count": null,
   "id": "de9d0077",
   "metadata": {},
   "outputs": [],
   "source": [
    "train  <- matchdata[sample, ]\n",
    "test   <- matchdata[!sample, ]\n",
    "dim(train)"
   ]
  },
  {
   "cell_type": "code",
   "execution_count": null,
   "id": "f2d18d9b",
   "metadata": {
    "code_folding": [
     0
    ]
   },
   "outputs": [],
   "source": [
    "#{    \"tags\": [  \"hide-input\"]\n",
    "\n",
    "\n",
    "# Another way\n",
    "#make this example reproducible\n",
    "#set.seed(123)\n",
    "\n",
    "#create ID column\n",
    "#df$id <- 1:nrow(df)\n",
    "\n",
    "#use 70% of dataset as training set and 30% as test set \n",
    "#train <- df %>% dplyr::sample_frac(0.70)\n",
    "#test  <- dplyr::anti_join(df, train, by = 'id')\n",
    "#}"
   ]
  },
  {
   "cell_type": "markdown",
   "id": "ca1318f0-248e-41cf-b5c6-3a9fec9f9d99",
   "metadata": {},
   "source": [
    "---\n",
    "\n",
    "The objective then is to be able to get the best prediction of house prices. We begin by using a simple model with no covariates, just a constant"
   ]
  },
  {
   "cell_type": "code",
   "execution_count": null,
   "id": "6a201763-d401-4f93-866a-00d1a6dc87c9",
   "metadata": {},
   "outputs": [],
   "source": [
    "model1<-lm(price~1,data=train)\n",
    "summary(model1)"
   ]
  },
  {
   "cell_type": "markdown",
   "id": "9980df5e-4174-45bb-9b0f-13b558828a0b",
   "metadata": {},
   "source": [
    "In this case our prediction for the log price is the average train sample average"
   ]
  },
  {
   "cell_type": "markdown",
   "id": "bc5ad357-a9c5-4be6-9a38-e379229878b3",
   "metadata": {},
   "source": [
    "$$\n",
    "\\hat{y}=\\hat{\\beta_1}=\\frac{\\sum y_i}{n}=m\n",
    "$$"
   ]
  },
  {
   "cell_type": "code",
   "execution_count": null,
   "id": "e3fa8942-e1b3-48d1-8d75-a9a2dcfb3b62",
   "metadata": {},
   "outputs": [],
   "source": [
    "coef(model1)\n"
   ]
  },
  {
   "cell_type": "code",
   "execution_count": null,
   "id": "7bed4174",
   "metadata": {},
   "outputs": [],
   "source": [
    "paste(\"Coef:\", mean(train$price))"
   ]
  },
  {
   "cell_type": "markdown",
   "id": "0a8e78c6-94e3-4646-b96b-269fcffcee7b",
   "metadata": {},
   "source": [
    "---\n",
    "\n",
    "But we are concernded on predicting well our of sample, so we need to evaluate our model in the testing data "
   ]
  },
  {
   "cell_type": "code",
   "execution_count": null,
   "id": "bcbea972-26d5-48a1-a322-9c0a942703a3",
   "metadata": {},
   "outputs": [],
   "source": [
    "test$model1<-predict(model1,newdata = test)"
   ]
  },
  {
   "cell_type": "markdown",
   "id": "77839d42-8882-4761-8db4-df6bc614f3ac",
   "metadata": {},
   "source": [
    "Then the $test\\,MSE=E((y-\\hat{y})^2)=E((y-m)^2)=$ "
   ]
  },
  {
   "cell_type": "code",
   "execution_count": null,
   "id": "158d9d4b",
   "metadata": {},
   "outputs": [],
   "source": [
    "with(test,mean((price-model1)^2))"
   ]
  },
  {
   "cell_type": "markdown",
   "id": "eafd03f2",
   "metadata": {},
   "source": [
    "This is our starting point, then the question is how can we improve it.\n",
    "\n",
    "---\n",
    "\n",
    "To improve our prediction we can start adding variables and thus *building* $f$. The standard approach to build $f$ would be using a hedonic house price function. In its basic form the hedonic price function is linear in the explanatory characteristics\n",
    "\n",
    "$$\n",
    "Price=\\beta_0+\\beta_1 x_1+\\beta_2 x_2 + \\dots + \\beta_p x_p +u\n",
    "$$\n",
    "\n",
    "where $y$ is ussually the sales price, and $x_1  \\dots x_p$ are attributes of the house, like  structural characteristics and it's location. So estimating an hedonic price function seems a good idea to start with. \n",
    "However, the theory says little on what are the relevant attributes of the house. So we are going to explore the effects of adding house characteristics on our out of sample MSE.\n",
    "\n",
    "We begin by showing that the simple inclusion of a single covariate reduces the MSE with respect to the \\textit{naive} model that used the sample mean."
   ]
  },
  {
   "cell_type": "code",
   "execution_count": null,
   "id": "cb9cac15-8f34-4962-9bf1-c3a680bd6f4b",
   "metadata": {},
   "outputs": [],
   "source": [
    "model2<-lm(price~bedrooms,data=train)\n",
    "test$model2<-predict(model2,newdata = test)\n",
    "with(test,mean((price-model2)^2))"
   ]
  },
  {
   "cell_type": "markdown",
   "id": "b311451b-4af0-4638-a834-fa921cee1c71",
   "metadata": {},
   "source": [
    "---\n",
    "\n",
    "What about if we include more variables? "
   ]
  },
  {
   "cell_type": "code",
   "execution_count": null,
   "id": "7c152233-8bda-4e61-9853-160fb7790093",
   "metadata": {},
   "outputs": [],
   "source": [
    "model3<-lm(price~bedrooms+bathrooms+centair+fireplace+brick,data=train)\n",
    "test$model3<-predict(model3,newdata = test)\n",
    "with(test,mean((price-model3)^2))"
   ]
  },
  {
   "cell_type": "markdown",
   "id": "c206641b-fff0-449f-bf06-cd7b8cc0b161",
   "metadata": {},
   "source": [
    "Note that the MSE is once more reduced. If we include all?"
   ]
  },
  {
   "cell_type": "code",
   "execution_count": null,
   "id": "e06f8287-7756-4d88-99a2-2eb1285007fe",
   "metadata": {},
   "outputs": [],
   "source": [
    "\n",
    "model4<-lm(price~bedrooms+bathrooms+centair+fireplace+brick+\n",
    "                lnland+lnbldg+rooms+garage1+garage2+dcbd+rr+\n",
    "                yrbuilt+factor(carea)+latitude+longitude,data=train)\n",
    "test$model4<-predict(model4,newdata = test)\n",
    "with(test,mean((price-model4)^2))"
   ]
  },
  {
   "cell_type": "markdown",
   "id": "129749c0-3299-475d-9448-8b8d194c253e",
   "metadata": {},
   "source": [
    " In this case the MSE keeps improving. Is there a limit to this improvement? Can we keep adding features and complexity?"
   ]
  },
  {
   "cell_type": "code",
   "execution_count": null,
   "id": "a5fc101d-6211-40d9-8dc2-4e2f8580d568",
   "metadata": {
    "lines_to_next_cell": 0
   },
   "outputs": [],
   "source": [
    "model5<-lm(price~poly(bedrooms,2,raw=TRUE):poly(bathrooms,3,raw=TRUE):centair:fireplace:brick:lnland:lnbldg+garage1+garage2+rr+\n",
    "                yrbuilt+factor(carea)+poly(latitude,8,raw=TRUE):poly(longitude,8,raw=TRUE),data=train)\n",
    "test$model5<-predict(model5,newdata = test)"
   ]
  },
  {
   "cell_type": "code",
   "execution_count": null,
   "id": "327d5853-5364-4865-8854-3066623e0517",
   "metadata": {
    "lines_to_next_cell": 0
   },
   "outputs": [],
   "source": [
    "with(test,mean((price-model5)^2))"
   ]
  },
  {
   "cell_type": "markdown",
   "id": "a9cb15c3-aff7-4fd0-8229-6b5d654396ce",
   "metadata": {},
   "source": [
    "Compare everything"
   ]
  },
  {
   "cell_type": "markdown",
   "id": "d0149927-e250-4ba5-94b0-0a76bf6428a9",
   "metadata": {},
   "source": [
    "\n"
   ]
  },
  {
   "cell_type": "code",
   "execution_count": null,
   "id": "b5c93201-0988-42ea-8b89-17ed2f508eb5",
   "metadata": {
    "lines_to_next_cell": 0,
    "tags": [
     "remove_input"
    ]
   },
   "outputs": [],
   "source": [
    "mse1<-with(test,round(mean((price-model1)^2),3))\n",
    "mse2<-with(test,round(mean((price-model2)^2),3))\n",
    "mse3<-with(test,round(mean((price-model3)^2),3))\n",
    "mse4<-with(test,round(mean((price-model4)^2),3))\n",
    "mse5<-with(test,round(mean((price-model5)^2),3))"
   ]
  },
  {
   "cell_type": "code",
   "execution_count": null,
   "id": "873da6c9-9bfc-435b-820e-18bc05083365",
   "metadata": {
    "name": "mse_plot_ch3",
    "tags": [
     "remove_input"
    ]
   },
   "outputs": [],
   "source": [
    "mse<-c(mse1,mse2,mse3,mse4,mse5)\n",
    "\n",
    "db<-data.frame(model=factor(c(\"model1\",\"model2\",\"model3\",\"model4\",\"model5\"),ordered=TRUE),MSE=mse)\n",
    "\n",
    "db"
   ]
  },
  {
   "cell_type": "markdown",
   "id": "e40738c2",
   "metadata": {},
   "source": [
    "## LOOCV"
   ]
  },
  {
   "cell_type": "markdown",
   "id": "d3d1770a",
   "metadata": {},
   "source": [
    "\n",
    "<div>\n",
    "<img src=\"1.png\" width=\"500\"/>\n",
    "</div>\n",
    "\n",
    "<div>\n",
    "<img src=\"2.png\" width=\"500\"/>\n",
    "</div>\n",
    "\n",
    "\n",
    "<div>\n",
    "<img src=\"3.png\" width=\"500\"/>\n",
    "</div>\n",
    "\n",
    ".\n",
    "\n",
    ".\n",
    "\n",
    ".\n",
    "\n",
    ".\n",
    "\n",
    ".\n",
    "\n",
    ".\n",
    "\n",
    ".\n",
    "\n",
    ".\n",
    "\n",
    "<div>\n",
    "<img src=\"20.png\" width=\"500\"/>\n",
    "</div>\n",
    "\n"
   ]
  },
  {
   "cell_type": "markdown",
   "id": "d74ed30e-123e-4aef-a5e4-6f793ac9fc3f",
   "metadata": {},
   "source": [
    "# K- Fold Cross Validation"
   ]
  },
  {
   "cell_type": "markdown",
   "id": "7c24e6a6-0bc9-41e3-9d0d-f87144a5563b",
   "metadata": {},
   "source": [
    "<div>\n",
    "<img src=\"fold.png\" width=\"500\"/>\n",
    "</div>\n"
   ]
  },
  {
   "cell_type": "code",
   "execution_count": null,
   "id": "c7844982",
   "metadata": {},
   "outputs": [],
   "source": [
    "\n",
    "# Specify the number of folds for\n",
    "# V-fold cross-validation\n",
    "set.seed(123)\n",
    "folds = 5\n",
    "\n",
    "index <- split(1:1000, 1:folds)\n",
    "splt <- lapply(1:folds, function(ind) matchdata[index[[ind]], ])\n"
   ]
  },
  {
   "cell_type": "code",
   "execution_count": null,
   "id": "cd38ba05",
   "metadata": {},
   "outputs": [],
   "source": [
    "View(head(splt))"
   ]
  },
  {
   "cell_type": "code",
   "execution_count": null,
   "id": "41d0f09d",
   "metadata": {},
   "outputs": [],
   "source": [
    "head(splt[[2]])"
   ]
  },
  {
   "cell_type": "code",
   "execution_count": null,
   "id": "19375a67",
   "metadata": {},
   "outputs": [],
   "source": [
    "head(splt[[5]])"
   ]
  },
  {
   "cell_type": "code",
   "execution_count": null,
   "id": "7adcd95a",
   "metadata": {},
   "outputs": [],
   "source": [
    "p_load(data.table)\n",
    "m1 <- lapply(1:folds, function(ii) lm(price~bedrooms, data = rbindlist(splt[-ii]))) "
   ]
  },
  {
   "cell_type": "code",
   "execution_count": null,
   "id": "66cbfc52",
   "metadata": {},
   "outputs": [],
   "source": [
    "#lm(price~bedrooms, data = rbindlist(splt[-1]))"
   ]
  },
  {
   "cell_type": "code",
   "execution_count": null,
   "id": "9dd823a0",
   "metadata": {},
   "outputs": [],
   "source": [
    "p1 <- lapply(1:folds, function(ii) data.frame(predict(m1[[ii]], newdata = rbindlist(splt[ii]))))"
   ]
  },
  {
   "cell_type": "code",
   "execution_count": null,
   "id": "9bfab986",
   "metadata": {},
   "outputs": [],
   "source": [
    "#p1[1]"
   ]
  },
  {
   "cell_type": "code",
   "execution_count": null,
   "id": "325d6d31",
   "metadata": {},
   "outputs": [],
   "source": [
    "\n",
    "for (i in 1:folds) {\n",
    "  colnames(p1[[i]])<-\"yhat\"\n",
    "  splt[[i]] <- cbind(splt[[i]], p1[[i]])\n",
    "\n",
    "}"
   ]
  },
  {
   "cell_type": "code",
   "execution_count": null,
   "id": "5b43b86b",
   "metadata": {},
   "outputs": [],
   "source": [
    "\n",
    "MSE2_k <- lapply(1:folds, function(ii) mean((splt[[ii]]$price - splt[[ii]]$yhat)^2))\n",
    "MSE2_k"
   ]
  },
  {
   "cell_type": "code",
   "execution_count": null,
   "id": "247a0c51-4b02-491b-b117-84e9b6979334",
   "metadata": {
    "echo": true,
    "message": false,
    "warning": false
   },
   "outputs": [],
   "source": [
    "mean(unlist(MSE2_k))"
   ]
  },
  {
   "cell_type": "code",
   "execution_count": null,
   "id": "87b42089",
   "metadata": {},
   "outputs": [],
   "source": [
    "db$MSE[db$model==\"model2\"]"
   ]
  }
 ],
 "metadata": {
  "kernelspec": {
   "display_name": "R",
   "language": "R",
   "name": "ir"
  },
  "language_info": {
   "codemirror_mode": "r",
   "file_extension": ".r",
   "mimetype": "text/x-r-source",
   "name": "R",
   "pygments_lexer": "r",
   "version": "4.2.2"
  },
  "toc": {
   "base_numbering": 1,
   "nav_menu": {},
   "number_sections": true,
   "sideBar": true,
   "skip_h1_title": false,
   "title_cell": "Table of Contents",
   "title_sidebar": "Contents",
   "toc_cell": false,
   "toc_position": {},
   "toc_section_display": true,
   "toc_window_display": false
  }
 },
 "nbformat": 4,
 "nbformat_minor": 5
}
