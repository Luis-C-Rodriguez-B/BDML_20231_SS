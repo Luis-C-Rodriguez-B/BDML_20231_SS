{
 "cells": [
  {
   "cell_type": "markdown",
   "id": "52d3ad87-541b-4039-af11-e014c2c8f74f",
   "metadata": {},
   "source": [
    "<div >\n",
    "<img src = \"banner.jpg\" />\n",
    "</div>"
   ]
  },
  {
   "cell_type": "markdown",
   "id": "3e386f69-995e-4594-8394-e932c7f695e2",
   "metadata": {},
   "source": [
    "# The Bootstrap\n",
    "\n",
    "<div >\n",
    "<img src = \"pelos.jpg\" />\n",
    "</div>\n"
   ]
  },
  {
   "cell_type": "markdown",
   "id": "6af730bf-67c3-425e-9ea6-8a400e3f6287",
   "metadata": {},
   "source": [
    "## Introduction\n",
    "\n",
    "\n",
    "The bootstrap is a widely applicable and extremely powerful statistical tool that can be used to quantify the uncertainty associated with a given estimator or statistical learning method. As a simple example, the bootstrap can be used to estimate the standard errors of the coefficients from a linear regression fit. In the specific case of linear regression, this is not particularly useful, since standard statistical software outputs such standard errors automatically. However, the power of the bootstrap lies in the fact that it can be easily applied to a wide range of statistical learning methods, including some for which a measure of variability is otherwise difficult to obtain and is not automatically output by statistical software."
   ]
  },
  {
   "cell_type": "markdown",
   "id": "b46eaf8a-511f-4102-8362-6a0cccd95752",
   "metadata": {
    "lines_to_next_cell": 0
   },
   "source": [
    "Let's ilustrate with an example. Suppose we have the following data"
   ]
  },
  {
   "cell_type": "code",
   "execution_count": null,
   "id": "523b9df4",
   "metadata": {
    "comment": "#R_CODE#NA"
   },
   "outputs": [],
   "source": [
    "    gas<-read.csv(\"https://raw.githubusercontent.com/ignaciomsarmiento/datasets/main/gas.csv\",header=T)\n",
    "    head(gas)"
   ]
  },
  {
   "cell_type": "markdown",
   "id": "13a10007-1d3b-476e-a910-26fbc07f750e",
   "metadata": {},
   "source": [
    "## Case 1"
   ]
  },
  {
   "cell_type": "markdown",
   "id": "2381f4d0-81db-4fc1-bf4a-e5e38e262d1f",
   "metadata": {},
   "source": [
    "Where all the variables are in logs, and would like to estimate an equation like this: "
   ]
  },
  {
   "cell_type": "markdown",
   "id": "73837348-5395-4be0-940e-dd0585c9fee8",
   "metadata": {},
   "source": [
    "$$\\ln{Quantity}_{t}= \\alpha + \\beta_1 \\ln{Price}_{t} +\\beta_2 \\ln{Income}_{t} +u_{t}$$"
   ]
  },
  {
   "cell_type": "code",
   "execution_count": null,
   "id": "2a1b88f7",
   "metadata": {
    "message": false,
    "results": "asis",
    "warning": false
   },
   "outputs": [],
   "source": [
    "require(\"pacman\")\n",
    "p_load(\"tidyverse\",\"stargazer\")\n",
    "mod1<- lm(consumption~price+income,gas)\n",
    "stargazer(mod1,type=\"text\")"
   ]
  },
  {
   "cell_type": "code",
   "execution_count": null,
   "id": "34bef623",
   "metadata": {
    "comment": "#R_CODE#NA",
    "lines_to_next_cell": 2
   },
   "outputs": [],
   "source": [
    "set.seed(112)\n",
    "\n",
    "R<-1000 # Number of Repetions()\n",
    "\n",
    "eta_mod1<-rep(0,R)\n"
   ]
  },
  {
   "cell_type": "code",
   "execution_count": null,
   "id": "5611d6b6-52e4-4cca-a907-2dafaa1fcc1a",
   "metadata": {},
   "outputs": [],
   "source": [
    "for (i in 1:R){\n",
    "        \n",
    "      db_sample<- sample_frac(gas,size=1,replace=TRUE)\n",
    "        \n",
    "      f<-lm(consumption~price+income,db_sample)\n",
    "\n",
    "      coefs<-f$coefficients\n",
    "    \n",
    "      eta_mod1[i]<-coefs[2]\n",
    "    }"
   ]
  },
  {
   "cell_type": "code",
   "execution_count": null,
   "id": "9de4f264",
   "metadata": {},
   "outputs": [],
   "source": [
    "plot(hist(eta_mod1))"
   ]
  },
  {
   "cell_type": "code",
   "execution_count": null,
   "id": "72ee5204",
   "metadata": {
    "lines_to_next_cell": 0
   },
   "outputs": [],
   "source": [
    "mean(eta_mod1)"
   ]
  },
  {
   "cell_type": "code",
   "execution_count": null,
   "id": "346bc981",
   "metadata": {},
   "outputs": [],
   "source": [
    "quantile(eta_mod1,c(0.025,0.975))"
   ]
  },
  {
   "cell_type": "code",
   "execution_count": null,
   "id": "57d8574a",
   "metadata": {
    "lines_to_next_cell": 0
   },
   "outputs": [],
   "source": [
    "sqrt(var(eta_mod1))"
   ]
  },
  {
   "cell_type": "markdown",
   "id": "75604177-47e6-428d-93da-7059fcdbb934",
   "metadata": {},
   "source": [
    "\n",
    "\n",
    "\n",
    "\n"
   ]
  },
  {
   "cell_type": "code",
   "execution_count": null,
   "id": "4465e89c",
   "metadata": {
    "lines_to_next_cell": 0
   },
   "outputs": [],
   "source": [
    "p_load(\"boot\")\n",
    "\n",
    "\n",
    "\n",
    "eta.fn<-function(data,index){\n",
    "  coef(lm(consumption~price+income, data = data, subset = index))\n",
    "}\n",
    "\n",
    "boot(gas, eta.fn, R = 1000)"
   ]
  },
  {
   "cell_type": "markdown",
   "id": "0f5997ef-66f3-40e3-a651-dd4e5d7d3085",
   "metadata": {},
   "source": [
    "\n",
    "\n",
    "\n",
    "\n",
    "\n"
   ]
  },
  {
   "cell_type": "markdown",
   "id": "23770a17-2bf4-4da7-a3c1-ba7189b522cb",
   "metadata": {},
   "source": [
    "## Case 2"
   ]
  },
  {
   "cell_type": "markdown",
   "id": "0ed225fc-c670-45d1-a240-fc39d66675d4",
   "metadata": {},
   "source": [
    "$$\\ln{Quantity}_{t}= \\alpha + \\beta_1 \\ln{Price}_{t}  + \\beta_2 \\ln{Price}^2_{t} +\\beta_3 \\ln{Income}_{t}+ \\beta_4 \\ln{Price}_{t}\\times \\ln{Income}_{t} +u_{t}$$\n",
    "\n",
    "\n"
   ]
  },
  {
   "cell_type": "markdown",
   "id": "28a797bf-2d6d-4dcc-96f6-b220a21e5e38",
   "metadata": {},
   "source": [
    "first you need first to generate the quadratic and other terms as follows: "
   ]
  },
  {
   "cell_type": "code",
   "execution_count": null,
   "id": "4f119160",
   "metadata": {
    "comment": "#R_CODE#NA",
    "message": false,
    "warning": false
   },
   "outputs": [],
   "source": [
    "  gas<- gas %>% mutate(price2=price^2, \n",
    "                         price_income=price*income )"
   ]
  },
  {
   "cell_type": "markdown",
   "id": "a3497800-b41f-444c-bfc7-5e55ec3cebe1",
   "metadata": {
    "lines_to_next_cell": 0
   },
   "source": [
    "then regress: "
   ]
  },
  {
   "cell_type": "code",
   "execution_count": null,
   "id": "068309e2",
   "metadata": {
    "comment": "#R_CODE#NA"
   },
   "outputs": [],
   "source": [
    "mod2<-lm(consumption~price+price2+income+price_income,gas)\n",
    "stargazer(mod1,mod2,type=\"text\")"
   ]
  },
  {
   "cell_type": "markdown",
   "id": "af6aa83e-3951-4fe3-92b2-22cef527bfc2",
   "metadata": {
    "lines_to_next_cell": 0
   },
   "source": [
    " To do that you will need to: \n",
    " \n",
    "i) Obtain the coefficients of regression: "
   ]
  },
  {
   "cell_type": "code",
   "execution_count": null,
   "id": "0a826515",
   "metadata": {
    "comment": "#R_CODE#NA",
    "lines_to_next_cell": 2
   },
   "outputs": [],
   "source": [
    "    coefs<-mod2$coef\n",
    "    coefs "
   ]
  },
  {
   "cell_type": "markdown",
   "id": "b06b6fa1-6aff-4e51-8b69-8a70ec3080d7",
   "metadata": {},
   "source": [
    "ii) Extract the coefficients to scalars: "
   ]
  },
  {
   "cell_type": "code",
   "execution_count": null,
   "id": "8fe88f03",
   "metadata": {
    "comment": "#R_CODE#NA"
   },
   "outputs": [],
   "source": [
    "    b0<-coefs[1] \n",
    "    b1<-coefs[2]\n",
    "    b2<-coefs[3] \n",
    "    b3<-coefs[4]\n",
    "    b4<-coefs[5] "
   ]
  },
  {
   "cell_type": "markdown",
   "id": "37c019f7-6c6d-4586-b9f4-f8a16cd53d51",
   "metadata": {},
   "source": [
    "iii) Calculate the elasticity at the sample mean:"
   ]
  },
  {
   "cell_type": "code",
   "execution_count": null,
   "id": "cda5b326",
   "metadata": {
    "comment": "#R_CODE#NA",
    "lines_to_next_cell": 2
   },
   "outputs": [],
   "source": [
    "price_bar<-mean(gas$price)\n",
    "income_bar<-mean(gas$income)\n",
    "\n",
    "\n",
    "elastpt<-b1+2*b2*price_bar+b4*income_bar\n",
    "    \n",
    "elastpt"
   ]
  },
  {
   "cell_type": "markdown",
   "id": "21824522-2496-452e-b5ef-0b0cbe23ce64",
   "metadata": {},
   "source": [
    "How do we calculate the standard errors?\n"
   ]
  },
  {
   "cell_type": "code",
   "execution_count": null,
   "id": "2018ed5f",
   "metadata": {
    "comment": "#R_CODE#NA"
   },
   "outputs": [],
   "source": [
    "\n",
    "eta_mod2.fn<-function(data,index,\n",
    "                      price_bar=mean(gas$price),\n",
    "                      income_bar=mean(gas$income)){\n",
    "      \n",
    "      f<-lm(consumption~price+price2+income+price_income,data, subset = index)\n",
    "        coefs<-f$coefficients\n",
    "        \n",
    "        b1<-coefs[2]\n",
    "        b2<-coefs[3] \n",
    "        b4<-coefs[5] \n",
    "    \n",
    "      elastpt<-b1+2*b2*price_bar+b4*income_bar\n",
    "    \n",
    "    \n",
    "      return(elastpt)\n",
    "    }\n",
    "\n",
    "eta_mod2.fn(gas,1:nrow(gas))\n",
    "\n",
    "    "
   ]
  },
  {
   "cell_type": "code",
   "execution_count": null,
   "id": "1454e6da",
   "metadata": {
    "lines_to_next_cell": 0,
    "tags": []
   },
   "outputs": [],
   "source": [
    "results <- boot(data=gas, eta_mod2.fn,R=1000)\n",
    "results"
   ]
  }
 ],
 "metadata": {
  "kernelspec": {
   "display_name": "R",
   "language": "R",
   "name": "ir"
  },
  "language_info": {
   "codemirror_mode": "r",
   "file_extension": ".r",
   "mimetype": "text/x-r-source",
   "name": "R",
   "pygments_lexer": "r",
   "version": "4.2.2"
  }
 },
 "nbformat": 4,
 "nbformat_minor": 5
}
